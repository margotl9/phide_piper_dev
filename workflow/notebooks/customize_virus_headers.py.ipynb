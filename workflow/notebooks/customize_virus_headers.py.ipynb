{
 "cells": [
  {
   "cell_type": "code",
   "execution_count": null,
   "metadata": {},
   "outputs": [],
   "source": [
    "# Biopython to parse fasta files\n",
    "from Bio import SeqIO\n",
    "# pandas is for dataframes\n",
    "import pandas as pd\n",
    "# ete3 to convert from lineage to taxid (and vice versa)\n",
    "from ete3 import NCBITaxa\n",
    "ncbi = NCBITaxa()\n",
    "# ncbi.update_taxonomy_database()\n",
    "\n",
    "### convert each taxid in metadata to a lineage ###\n",
    "# load mgv metadata\n",
    "mgv_metadata= pd.read_csv(str(snakemake.input.metadata), sep='\\t')\n",
    "mgv_metadata['ictv_family'] = mgv_metadata.apply(lambda x: x.ictv_family if x.ictv_family != 'crAss-phage' else 'uncultured crAssphage', axis = 1)\n",
    "mgv_families = list(set(mgv_metadata['ictv_family']))\n",
    "\n",
    "# convert families to taxids\n",
    "taxids = []\n",
    "for family in mgv_families[1:]:\n",
    "    taxid = ncbi.get_name_translator([family])\n",
    "    taxids.append(taxid)\n",
    "\n",
    "# flatten list of dictionaries\n",
    "taxids_dict = {}\n",
    "for dictionary in taxids:\n",
    "    taxids_dict.update(dictionary)\n",
    "\n",
    "mgv_metadata['taxid'] = mgv_metadata['ictv_family'].map(taxids_dict)\n",
    "\n",
    "#parse through fasta file\n",
    "contig_to_taxid = mgv_metadata.set_index('contig_id').to_dict()['taxid']\n",
    "new_mgv_sequences = []\n",
    "for record in SeqIO.parse(str(snakemake.input.genomes), \"fasta\"):\n",
    "    updated_id = str(contig_to_taxid[record.id]).removeprefix('[').removesuffix(']')\n",
    "    record.id = str(record.id) + '|kraken:taxid|' + updated_id\n",
    "    new_mgv_sequences.append(record)\n",
    "\n",
    "# write customized sequences out\n",
    "SeqIO.write(new_mgv_sequences, str(snakemake.output), \"fasta\")"
   ]
  }
 ],
 "metadata": {
  "kernelspec": {
   "display_name": "Python 3.9.12 ('base': conda)",
   "language": "python",
   "name": "python3"
  },
  "language_info": {
   "codemirror_mode": {
    "name": "ipython",
    "version": 3
   },
   "file_extension": ".py",
   "mimetype": "text/x-python",
   "name": "python",
   "nbconvert_exporter": "python",
   "pygments_lexer": "ipython3",
   "version": "3.9.12"
  },
  "orig_nbformat": 4,
  "vscode": {
   "interpreter": {
    "hash": "5b5d16e44d88e4922d84b5272441e775090877eee7799512346262eca3710381"
   }
  }
 },
 "nbformat": 4,
 "nbformat_minor": 2
}
